{
 "metadata": {
  "language_info": {
   "codemirror_mode": {
    "name": "ipython",
    "version": 3
   },
   "file_extension": ".py",
   "mimetype": "text/x-python",
   "name": "python",
   "nbconvert_exporter": "python",
   "pygments_lexer": "ipython3",
   "version": "3.8.0-final"
  },
  "orig_nbformat": 2,
  "kernelspec": {
   "name": "python3",
   "display_name": "Python 3.8.0 64-bit",
   "metadata": {
    "interpreter": {
     "hash": "2db524e06e9f5f4ffedc911c917cb75e12dbc923643829bf417064a77eb14d37"
    }
   }
  }
 },
 "nbformat": 4,
 "nbformat_minor": 2,
 "cells": [
  {
   "source": [
    "## Triangle Similarity for Object/Marker to Camera Distance\n",
    "\n",
    "In order to determine the distance from our camera to a known object or marker, we are going to utilize triangle similarity.\n",
    "\n",
    "Given a marker or object with a known width W.<br/>\n",
    "When this marker is some distance D from our camera.<br>\n",
    "And a picture of our object is taken from a camera is analysed to obtain the apparent width in pixels P. <br/>\n",
    "Then we can derive the perceived focal length F of our camera<br/>\n",
    "\n",
    "`F = (P x  D) / W`<br/>\n",
    "\n",
    "Place a standard piece of 8.5 x 11in piece of paper (horizontally; W = 11) D = 24 inches in front of a camera and capture the image. <br/>\n",
    "Measure the width of the piece of paper in the image <br/>\n",
    "Let the perceived width of the paper be P = 248 pixels. <br/>\n",
    "\n",
    "<br/>let focal length F be calculated:\n",
    "\n",
    "`F = (248px x 24in) / 11in = 543.45`\n",
    "\n",
    "Continue to move the camera both closer and farther away from the object/marker, and capply the triangle similarity to determine the distance of the object to the camera:\n",
    "\n",
    "`D’ = (W x F) / P`\n",
    "\n",
    "Let the camera position be 3 ft (or 36 inches) away from the marker.<br/>\n",
    "Let the perceived width of the piece of the marker be 170 pixels. \n",
    "Let Distance be calculated:\n",
    "\n",
    "`D’ = (11in x 543.45) / 170 = 35in`\n",
    "\n",
    "Or roughly 36 inches, which is 3 feet."
   ],
   "cell_type": "markdown",
   "metadata": {}
  },
  {
   "cell_type": "code",
   "execution_count": 1,
   "metadata": {},
   "outputs": [],
   "source": [
    "# import the necessary packages\n",
    "from imutils import paths\n",
    "import numpy as np\n",
    "import imutils\n",
    "import cv2\n",
    "\n",
    "def find_marker(image):\n",
    "    # convert the image to grayscale, blur it, and detect edges\n",
    "    gray = cv2.cvtColor(image, cv2.COLOR_BGR2GRAY)\n",
    "    gray = cv2.GaussianBlur(gray, (5, 5), 0)\n",
    "    edged = cv2.Canny(gray, 35, 125)\n",
    "    # find the contours in the edged image and keep the largest one;\n",
    "    # we'll assume that this is our piece of paper in the image\n",
    "    cnts = cv2.findContours(edged.copy(), cv2.RETR_LIST, cv2.CHAIN_APPROX_SIMPLE)\n",
    "    cnts = imutils.grab_contours(cnts)\n",
    "    c = max(cnts, key = cv2.contourArea)\n",
    "    # compute the bounding box of the of the paper region and return it\n",
    "    return cv2.minAreaRect(c)"
   ]
  },
  {
   "cell_type": "code",
   "execution_count": 2,
   "metadata": {},
   "outputs": [],
   "source": [
    "# This function takes a knownWidth of the marker, a computed focalLength , and perceived width of an object in an \n",
    "# image (measured in pixels), and applies the triangle similarity detailed above to compute the actual distance to\n",
    "# the object.\n",
    "\n",
    "def distance_to_camera(knownWidth, focalLength, perWidth):\n",
    "    # compute and return the distance from the maker to the camera\n",
    "    return (knownWidth * focalLength) / perWidth"
   ]
  },
  {
   "source": [
    "Use a single image to calibrate with"
   ],
   "cell_type": "markdown",
   "metadata": {}
  },
  {
   "cell_type": "code",
   "execution_count": 3,
   "metadata": {},
   "outputs": [],
   "source": [
    "# initialize the known distance from the camera to the object, which\n",
    "# in this case is 24 inches\n",
    "KNOWN_DISTANCE = 24.0\n",
    "# initialize the known object width, which in this case, the piece of\n",
    "# paper is 12 inches wide\n",
    "KNOWN_WIDTH = 11.0\n",
    "# load the image that contains an object that is KNOWN TO BE 2 feet\n",
    "# from our camera, then find the paper marker in the image, and initialize\n",
    "# the focal length\n",
    "image = cv2.imread(\"images/2ft.png\")\n",
    "marker = find_marker(image)\n",
    "focalLength = (marker[1][0] * KNOWN_DISTANCE) / KNOWN_WIDTH"
   ]
  },
  {
   "source": [
    "Now that we have a calibration then we can make judgements about other images based on this calibration"
   ],
   "cell_type": "markdown",
   "metadata": {}
  },
  {
   "cell_type": "code",
   "execution_count": 4,
   "metadata": {},
   "outputs": [],
   "source": [
    "# loop over all the test images\n",
    "for imagePath in sorted(paths.list_images(\"images\")):\n",
    "    # load the image, find the marker in the image, then compute the\n",
    "    # distance to the marker from the camera\n",
    "    image = cv2.imread(imagePath)\n",
    "    marker = find_marker(image)\n",
    "    inches = distance_to_camera(KNOWN_WIDTH, focalLength, marker[1][0])\n",
    "    # draw a bounding box around the image and display it\n",
    "    box = cv2.cv.BoxPoints(marker) if imutils.is_cv2() else cv2.boxPoints(marker)\n",
    "    box = np.int0(box)\n",
    "    cv2.drawContours(image, [box], -1, (0, 255, 0), 2)\n",
    "    cv2.putText(image, \"%.2fft\" % (inches / 12),\n",
    "        (image.shape[1] - 200, image.shape[0] - 20), cv2.FONT_HERSHEY_SIMPLEX,\n",
    "        2.0, (0, 255, 0), 3)\n",
    "    cv2.imshow(\"image\", image)\n",
    "    cv2.waitKey(0)\n",
    "\n",
    "cv2.destroyAllWindows()"
   ]
  }
 ]
}