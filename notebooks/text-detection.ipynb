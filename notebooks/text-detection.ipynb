{
 "metadata": {
  "language_info": {
   "codemirror_mode": {
    "name": "ipython",
    "version": 3
   },
   "file_extension": ".py",
   "mimetype": "text/x-python",
   "name": "python",
   "nbconvert_exporter": "python",
   "pygments_lexer": "ipython3",
   "version": "3.8.0-final"
  },
  "orig_nbformat": 2,
  "kernelspec": {
   "name": "python3",
   "display_name": "Python 3.8.0 64-bit",
   "metadata": {
    "interpreter": {
     "hash": "2db524e06e9f5f4ffedc911c917cb75e12dbc923643829bf417064a77eb14d37"
    }
   }
  }
 },
 "nbformat": 4,
 "nbformat_minor": 2,
 "cells": [
  {
   "source": [
    "## Text detection using trained models\n",
    "\n",
    "EAST: An Efficient and Accurate Scene Text Detector."
   ],
   "cell_type": "markdown",
   "metadata": {}
  },
  {
   "cell_type": "code",
   "execution_count": 86,
   "metadata": {},
   "outputs": [],
   "source": [
    "# import the necessary packages\n",
    "from imutils.object_detection import non_max_suppression\n",
    "import numpy as np\n",
    "import argparse\n",
    "import time\n",
    "import cv2\n",
    "# construct the argument parser and parse the arguments\n",
    "# ap = argparse.ArgumentParser()\n",
    "# ap.add_argument(\"-i\", \"--image\", type=str, default = 'images/lebron_james.jpg',\n",
    "# \thelp=\"path to input image\")\n",
    "# ap.add_argument(\"-east\", \"--east\", type=str, default = 'models/frozen_east_text_detection.pb',\n",
    "# \thelp=\"path to input EAST text detector\")\n",
    "# ap.add_argument(\"-c\", \"--min-confidence\", type=float, default=0.5,\n",
    "# \thelp=\"minimum probability required to inspect a region\")\n",
    "# ap.add_argument(\"-w\", \"--width\", type=int, default=320,\n",
    "# \thelp=\"resized image width (should be multiple of 32)\")\n",
    "# ap.add_argument(\"-e\", \"--height\", type=int, default=320,\n",
    "# \thelp=\"resized image height (should be multiple of 32)\")\n",
    "# args = vars(ap.parse_args())\n",
    "args = {\n",
    "    'image': 'images/text-detection/car_wash.png',\n",
    "    'east': 'models/frozen_east_text_detection.pb',\n",
    "    'min_confidence': 0.5,\n",
    "    'width': 320,\n",
    "    'height': 320\n",
    "}"
   ]
  },
  {
   "cell_type": "code",
   "execution_count": 87,
   "metadata": {},
   "outputs": [],
   "source": [
    "# load the input image and grab the image dimensions\n",
    "image = cv2.imread(args[\"image\"])\n",
    "orig = image.copy()\n",
    "(H, W) = image.shape[:2]\n",
    "\n",
    "# set the new width and height and then determine the ratio in change\n",
    "# for both the width and height\n",
    "(newW, newH) = (args[\"width\"], args[\"height\"])\n",
    "rW = W / float(newW)\n",
    "rH = H / float(newH)\n",
    "\n",
    "# resize the image and grab the new image dimensions\n",
    "image = cv2.resize(image, (newW, newH))\n",
    "(H, W) = image.shape[:2]"
   ]
  },
  {
   "cell_type": "code",
   "execution_count": 88,
   "metadata": {},
   "outputs": [],
   "source": [
    "# define the two output layer names for the EAST detector model that\n",
    "# we are interested -- the first is the output probabilities and the\n",
    "# second can be used to derive the bounding box coordinates of text\n",
    "layerNames = [\n",
    "\t\"feature_fusion/Conv_7/Sigmoid\",\n",
    "\t\"feature_fusion/concat_3\"]"
   ]
  },
  {
   "cell_type": "code",
   "execution_count": 89,
   "metadata": {},
   "outputs": [
    {
     "output_type": "stream",
     "name": "stdout",
     "text": [
      "[INFO] loading EAST text detector...\n",
      "[INFO] text detection took 0.199969 seconds\n"
     ]
    }
   ],
   "source": [
    "# load the pre-trained EAST text detector\n",
    "print(\"[INFO] loading EAST text detector...\")\n",
    "net = cv2.dnn.readNet(args[\"east\"])\n",
    "\n",
    "# construct a blob from the image and then perform a forward pass of\n",
    "# the model to obtain the two output layer sets\n",
    "blob = cv2.dnn.blobFromImage(image, 1.0, (W, H),\n",
    "                             (123.68, 116.78, 103.94), swapRB=True, crop=False)\n",
    "start = time.time()\n",
    "net.setInput(blob)\n",
    "(scores, geometry) = net.forward(layerNames)\n",
    "end = time.time()\n",
    "\n",
    "# show timing information on text prediction\n",
    "print(\"[INFO] text detection took {:.6f} seconds\".format(end - start))"
   ]
  },
  {
   "source": [
    "By supplying layerNames  as a parameter to net.forward , we are instructing OpenCV to return the two feature maps that we are interested in:\n",
    "\n",
    "The output geometry  map used to derive the bounding box coordinates of text in our input images\n",
    "And similarly, the scores  map, containing the probability of a given region containing text"
   ],
   "cell_type": "markdown",
   "metadata": {}
  },
  {
   "cell_type": "code",
   "execution_count": 90,
   "metadata": {},
   "outputs": [],
   "source": [
    "# grab the number of rows and columns from the scores volume, then\n",
    "# initialize our set of bounding box rectangles and corresponding\n",
    "# confidence scores\n",
    "(numRows, numCols) = scores.shape[2:4]\n",
    "rects = []\n",
    "confidences = []\n",
    "\n",
    "# loop over the number of rows\n",
    "for y in range(0, numRows):\n",
    "    # extract the scores (probabilities), followed by the geometrical\n",
    "    # data used to derive potential bounding box coordinates that\n",
    "    # surround text\n",
    "    scoresData = scores[0, 0, y]\n",
    "    xData0 = geometry[0, 0, y]\n",
    "    xData1 = geometry[0, 1, y]\n",
    "    xData2 = geometry[0, 2, y]\n",
    "    xData3 = geometry[0, 3, y]\n",
    "    anglesData = geometry[0, 4, y]\n",
    "\n",
    "    # loop over the number of columns\n",
    "    for x in range(0, numCols):\n",
    "        # if our score does not have sufficient probability, ignore it\n",
    "        if scoresData[x] < args[\"min_confidence\"]:\n",
    "            continue\n",
    "\n",
    "        # compute the offset factor as our resulting feature maps will\n",
    "        # be 4x smaller than the input image\n",
    "        (offsetX, offsetY) = (x * 4.0, y * 4.0)\n",
    "\n",
    "        # extract the rotation angle for the prediction and then\n",
    "        # compute the sin and cosine\n",
    "        angle = anglesData[x]\n",
    "        cos = np.cos(angle)\n",
    "        sin = np.sin(angle)\n",
    "\n",
    "        # use the geometry volume to derive the width and height of\n",
    "        # the bounding box\n",
    "        h = xData0[x] + xData2[x]\n",
    "        w = xData1[x] + xData3[x]\n",
    "\n",
    "        # compute both the starting and ending (x, y)-coordinates for\n",
    "        # the text prediction bounding box\n",
    "        endX = int(offsetX + (cos * xData1[x]) + (sin * xData2[x]))\n",
    "        endY = int(offsetY - (sin * xData1[x]) + (cos * xData2[x]))\n",
    "        startX = int(endX - w)\n",
    "        startY = int(endY - h)\n",
    "\n",
    "        # add the bounding box coordinates and probability score to\n",
    "        # our respective lists\n",
    "        rects.append((startX, startY, endX, endY))\n",
    "        confidences.append(scoresData[x])\n"
   ]
  },
  {
   "cell_type": "code",
   "execution_count": 91,
   "metadata": {},
   "outputs": [],
   "source": [
    "# apply non-maxima suppression to suppress weak, overlapping bounding\n",
    "# boxes\n",
    "boxes = non_max_suppression(np.array(rects), probs=confidences)\n",
    "\n",
    "# loop over the bounding boxes\n",
    "for (startX, startY, endX, endY) in boxes:\n",
    "    # scale the bounding box coordinates based on the respective\n",
    "    # ratios\n",
    "    startX = int(startX * rW)\n",
    "    startY = int(startY * rH)\n",
    "    endX = int(endX * rW)\n",
    "    endY = int(endY * rH)\n",
    "\n",
    "    # draw the bounding box on the image\n",
    "    cv2.rectangle(orig, (startX, startY), (endX, endY), (0, 255, 0), 2)\n",
    "\n",
    "# show the output image\n",
    "cv2.imshow(\"Text Detection\", orig)\n",
    "cv2.waitKey(0)\n",
    "cv2.destroyAllWindows()"
   ]
  },
  {
   "cell_type": "code",
   "execution_count": null,
   "metadata": {},
   "outputs": [],
   "source": []
  }
 ]
}